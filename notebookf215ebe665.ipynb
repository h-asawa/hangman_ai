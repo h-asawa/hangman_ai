{
 "cells": [
  {
   "cell_type": "code",
   "execution_count": 1,
   "id": "bcdbde62",
   "metadata": {
    "_cell_guid": "b1076dfc-b9ad-4769-8c92-a6c4dae69d19",
    "_uuid": "8f2839f25d086af736a60e9eeb907d3b93b6e0e5",
    "execution": {
     "iopub.execute_input": "2024-01-20T12:00:07.641118Z",
     "iopub.status.busy": "2024-01-20T12:00:07.640737Z",
     "iopub.status.idle": "2024-01-20T12:00:09.469899Z",
     "shell.execute_reply": "2024-01-20T12:00:09.469058Z"
    },
    "papermill": {
     "duration": 1.836247,
     "end_time": "2024-01-20T12:00:09.472261",
     "exception": false,
     "start_time": "2024-01-20T12:00:07.636014",
     "status": "completed"
    },
    "tags": []
   },
   "outputs": [
    {
     "name": "stderr",
     "output_type": "stream",
     "text": [
      "/opt/conda/lib/python3.10/site-packages/scipy/__init__.py:146: UserWarning: A NumPy version >=1.16.5 and <1.23.0 is required for this version of SciPy (detected version 1.24.3\n",
      "  warnings.warn(f\"A NumPy version >={np_minversion} and <{np_maxversion}\"\n"
     ]
    }
   ],
   "source": [
    "import numpy as np\n",
    "import pandas as pd\n",
    "import matplotlib.pyplot as plt\n",
    "import pickle\n",
    "import xgboost as xgb\n",
    "from xgboost import XGBClassifier\n",
    "from sklearn.model_selection import train_test_split\n",
    "from sklearn.metrics import confusion_matrix, classification_report,balanced_accuracy_score"
   ]
  },
  {
   "cell_type": "code",
   "execution_count": 2,
   "id": "c0f994c0",
   "metadata": {
    "execution": {
     "iopub.execute_input": "2024-01-20T12:00:09.479839Z",
     "iopub.status.busy": "2024-01-20T12:00:09.479028Z",
     "iopub.status.idle": "2024-01-20T12:00:09.485394Z",
     "shell.execute_reply": "2024-01-20T12:00:09.484457Z"
    },
    "papermill": {
     "duration": 0.012188,
     "end_time": "2024-01-20T12:00:09.487450",
     "exception": false,
     "start_time": "2024-01-20T12:00:09.475262",
     "status": "completed"
    },
    "tags": []
   },
   "outputs": [],
   "source": [
    "file_paths = [\"/kaggle/input/dswefw/final_data1.parquet\" , \"/kaggle/input/dswefw/final_data2.parquet\" ,\"/kaggle/input/dswefw/final_data3.parquet\" ,\n",
    "             \"/kaggle/input/dswefw/final_data4.parquet\" ,\"/kaggle/input/dswefw/final_data5.parquet\" ,\"/kaggle/input/dswefw/final_data6.parquet\" ,\n",
    "             \"/kaggle/input/dswefw/final_data7.parquet\" ,\"/kaggle/input/dswefw/final_data8.parquet\" ,\"/kaggle/input/dswefw/final_data9.parquet\" ,\n",
    "             \"/kaggle/input/dswefw/final_data10.parquet\"]\n"
   ]
  },
  {
   "cell_type": "code",
   "execution_count": 3,
   "id": "c239dc23",
   "metadata": {
    "execution": {
     "iopub.execute_input": "2024-01-20T12:00:09.494476Z",
     "iopub.status.busy": "2024-01-20T12:00:09.493843Z",
     "iopub.status.idle": "2024-01-20T12:00:10.489338Z",
     "shell.execute_reply": "2024-01-20T12:00:10.488273Z"
    },
    "papermill": {
     "duration": 1.001492,
     "end_time": "2024-01-20T12:00:10.491723",
     "exception": false,
     "start_time": "2024-01-20T12:00:09.490231",
     "status": "completed"
    },
    "tags": []
   },
   "outputs": [
    {
     "name": "stdout",
     "output_type": "stream",
     "text": [
      "Sat Jan 20 12:00:10 2024       \r\n",
      "+---------------------------------------------------------------------------------------+\r\n",
      "| NVIDIA-SMI 535.129.03             Driver Version: 535.129.03   CUDA Version: 12.2     |\r\n",
      "|-----------------------------------------+----------------------+----------------------+\r\n",
      "| GPU  Name                 Persistence-M | Bus-Id        Disp.A | Volatile Uncorr. ECC |\r\n",
      "| Fan  Temp   Perf          Pwr:Usage/Cap |         Memory-Usage | GPU-Util  Compute M. |\r\n",
      "|                                         |                      |               MIG M. |\r\n",
      "|=========================================+======================+======================|\r\n",
      "|   0  Tesla P100-PCIE-16GB           Off | 00000000:00:04.0 Off |                    0 |\r\n",
      "| N/A   32C    P0              25W / 250W |      0MiB / 16384MiB |      0%      Default |\r\n",
      "|                                         |                      |                  N/A |\r\n",
      "+-----------------------------------------+----------------------+----------------------+\r\n",
      "                                                                                         \r\n",
      "+---------------------------------------------------------------------------------------+\r\n",
      "| Processes:                                                                            |\r\n",
      "|  GPU   GI   CI        PID   Type   Process name                            GPU Memory |\r\n",
      "|        ID   ID                                                             Usage      |\r\n",
      "|=======================================================================================|\r\n",
      "|  No running processes found                                                           |\r\n",
      "+---------------------------------------------------------------------------------------+\r\n"
     ]
    }
   ],
   "source": [
    "!nvidia-smi\n",
    "\n",
    "alpha = \"abcdefghijklmnopqrstuvwxyz\"\n",
    "\n",
    "class XGBoost:\n",
    "    def __init__(self, num_classes=26):\n",
    "        # Initialize 26 CatBoost classifiers, one for each label\n",
    "        self.classifiers = [XGBClassifier(objective='binary:logistic' , tree_method='hist', device = 'cuda', learning_rate = 0.05) for _ in range(num_classes)]\n",
    "        \n",
    "    def fit(self, X, y):\n",
    "        # X is the feature matrix, y is a binary matrix indicating label presence\n",
    "        for i in range(len(self.classifiers)):\n",
    "            # Train each classifier on the corresponding label\n",
    "            dd = []\n",
    "            self.classifiers[i].fit(X.drop(dd), y[alpha[i]].drop(dd), verbose=100)\n",
    "    \n",
    "    def predict(self, X):\n",
    "        # Predict probabilities for each label\n",
    "        predictions = np.zeros((len(X), len(self.classifiers)))\n",
    "        for i, clf in enumerate(self.classifiers):\n",
    "            predictions[:, i] = clf.predict(X)[:, 1]  # Probability of class '1'\n",
    "        return predictions\n",
    "    \n",
    "    def save(self, filename):\n",
    "        # Save the model to a pickle file\n",
    "        with open(filename, 'wb') as file:\n",
    "            pickle.dump(self, file)\n",
    "    \n",
    "    @classmethod\n",
    "    def load(cls, filename):\n",
    "        # Load the model from a pickle file\n",
    "        with open(filename, 'rb') as file:\n",
    "            model = pickle.load(file)\n",
    "        return model"
   ]
  },
  {
   "cell_type": "code",
   "execution_count": 4,
   "id": "327c088f",
   "metadata": {
    "execution": {
     "iopub.execute_input": "2024-01-20T12:00:10.498969Z",
     "iopub.status.busy": "2024-01-20T12:00:10.498639Z",
     "iopub.status.idle": "2024-01-20T14:48:30.258478Z",
     "shell.execute_reply": "2024-01-20T14:48:30.257460Z"
    },
    "papermill": {
     "duration": 10099.766382,
     "end_time": "2024-01-20T14:48:30.261037",
     "exception": false,
     "start_time": "2024-01-20T12:00:10.494655",
     "status": "completed"
    },
    "tags": []
   },
   "outputs": [
    {
     "name": "stdout",
     "output_type": "stream",
     "text": [
      "0\n"
     ]
    },
    {
     "name": "stderr",
     "output_type": "stream",
     "text": [
      "/opt/conda/lib/python3.10/site-packages/numpy/core/fromnumeric.py:57: FutureWarning: 'DataFrame.swapaxes' is deprecated and will be removed in a future version. Please use 'DataFrame.transpose' instead.\n",
      "  return bound(*args, **kwds)\n"
     ]
    },
    {
     "name": "stdout",
     "output_type": "stream",
     "text": [
      "1\n"
     ]
    },
    {
     "name": "stderr",
     "output_type": "stream",
     "text": [
      "/opt/conda/lib/python3.10/site-packages/numpy/core/fromnumeric.py:57: FutureWarning: 'DataFrame.swapaxes' is deprecated and will be removed in a future version. Please use 'DataFrame.transpose' instead.\n",
      "  return bound(*args, **kwds)\n"
     ]
    },
    {
     "name": "stdout",
     "output_type": "stream",
     "text": [
      "2\n"
     ]
    },
    {
     "name": "stderr",
     "output_type": "stream",
     "text": [
      "/opt/conda/lib/python3.10/site-packages/numpy/core/fromnumeric.py:57: FutureWarning: 'DataFrame.swapaxes' is deprecated and will be removed in a future version. Please use 'DataFrame.transpose' instead.\n",
      "  return bound(*args, **kwds)\n"
     ]
    },
    {
     "name": "stdout",
     "output_type": "stream",
     "text": [
      "3\n"
     ]
    },
    {
     "name": "stderr",
     "output_type": "stream",
     "text": [
      "/opt/conda/lib/python3.10/site-packages/numpy/core/fromnumeric.py:57: FutureWarning: 'DataFrame.swapaxes' is deprecated and will be removed in a future version. Please use 'DataFrame.transpose' instead.\n",
      "  return bound(*args, **kwds)\n"
     ]
    },
    {
     "name": "stdout",
     "output_type": "stream",
     "text": [
      "4\n"
     ]
    },
    {
     "name": "stderr",
     "output_type": "stream",
     "text": [
      "/opt/conda/lib/python3.10/site-packages/numpy/core/fromnumeric.py:57: FutureWarning: 'DataFrame.swapaxes' is deprecated and will be removed in a future version. Please use 'DataFrame.transpose' instead.\n",
      "  return bound(*args, **kwds)\n"
     ]
    },
    {
     "name": "stdout",
     "output_type": "stream",
     "text": [
      "5\n"
     ]
    },
    {
     "name": "stderr",
     "output_type": "stream",
     "text": [
      "/opt/conda/lib/python3.10/site-packages/numpy/core/fromnumeric.py:57: FutureWarning: 'DataFrame.swapaxes' is deprecated and will be removed in a future version. Please use 'DataFrame.transpose' instead.\n",
      "  return bound(*args, **kwds)\n"
     ]
    },
    {
     "name": "stdout",
     "output_type": "stream",
     "text": [
      "6\n"
     ]
    },
    {
     "name": "stderr",
     "output_type": "stream",
     "text": [
      "/opt/conda/lib/python3.10/site-packages/numpy/core/fromnumeric.py:57: FutureWarning: 'DataFrame.swapaxes' is deprecated and will be removed in a future version. Please use 'DataFrame.transpose' instead.\n",
      "  return bound(*args, **kwds)\n"
     ]
    },
    {
     "name": "stdout",
     "output_type": "stream",
     "text": [
      "7\n"
     ]
    },
    {
     "name": "stderr",
     "output_type": "stream",
     "text": [
      "/opt/conda/lib/python3.10/site-packages/numpy/core/fromnumeric.py:57: FutureWarning: 'DataFrame.swapaxes' is deprecated and will be removed in a future version. Please use 'DataFrame.transpose' instead.\n",
      "  return bound(*args, **kwds)\n"
     ]
    },
    {
     "name": "stdout",
     "output_type": "stream",
     "text": [
      "8\n"
     ]
    },
    {
     "name": "stderr",
     "output_type": "stream",
     "text": [
      "/opt/conda/lib/python3.10/site-packages/numpy/core/fromnumeric.py:57: FutureWarning: 'DataFrame.swapaxes' is deprecated and will be removed in a future version. Please use 'DataFrame.transpose' instead.\n",
      "  return bound(*args, **kwds)\n"
     ]
    },
    {
     "name": "stdout",
     "output_type": "stream",
     "text": [
      "9\n"
     ]
    },
    {
     "name": "stderr",
     "output_type": "stream",
     "text": [
      "/opt/conda/lib/python3.10/site-packages/numpy/core/fromnumeric.py:57: FutureWarning: 'DataFrame.swapaxes' is deprecated and will be removed in a future version. Please use 'DataFrame.transpose' instead.\n",
      "  return bound(*args, **kwds)\n"
     ]
    }
   ],
   "source": [
    "model = XGBoost()\n",
    "\n",
    "#train test split\n",
    "from sklearn.model_selection import train_test_split\n",
    "for i in range(0, 10):\n",
    "    print(i)\n",
    "    data = pd.read_parquet(file_paths[i])\n",
    "    sub_dataset = np.array_split(data , 20)\n",
    "    for sub_data in sub_dataset:\n",
    "        X_train, X_test, y_train, y_test = train_test_split(sub_data[[str(x) for x in range(80)]], sub_data[[x for x in \"abcdefghijklmnopqrstuvwxyz\"]], test_size=0.01, random_state=42)\n",
    "        model.fit(X_train,y_train)\n",
    "    \n"
   ]
  },
  {
   "cell_type": "code",
   "execution_count": null,
   "id": "d78b27bc",
   "metadata": {
    "papermill": {
     "duration": 0.004023,
     "end_time": "2024-01-20T14:48:30.269675",
     "exception": false,
     "start_time": "2024-01-20T14:48:30.265652",
     "status": "completed"
    },
    "tags": []
   },
   "outputs": [],
   "source": []
  },
  {
   "cell_type": "code",
   "execution_count": 5,
   "id": "e0d28194",
   "metadata": {
    "execution": {
     "iopub.execute_input": "2024-01-20T14:48:30.279573Z",
     "iopub.status.busy": "2024-01-20T14:48:30.278828Z",
     "iopub.status.idle": "2024-01-20T14:48:30.358864Z",
     "shell.execute_reply": "2024-01-20T14:48:30.357968Z"
    },
    "papermill": {
     "duration": 0.087398,
     "end_time": "2024-01-20T14:48:30.361120",
     "exception": false,
     "start_time": "2024-01-20T14:48:30.273722",
     "status": "completed"
    },
    "tags": []
   },
   "outputs": [],
   "source": [
    "model.save('/kaggle/working/multilabelxgboost_model.pkl')"
   ]
  }
 ],
 "metadata": {
  "kaggle": {
   "accelerator": "gpu",
   "dataSources": [
    {
     "datasetId": 4327212,
     "sourceId": 7435318,
     "sourceType": "datasetVersion"
    }
   ],
   "dockerImageVersionId": 30635,
   "isGpuEnabled": true,
   "isInternetEnabled": true,
   "language": "python",
   "sourceType": "notebook"
  },
  "kernelspec": {
   "display_name": "Python 3",
   "language": "python",
   "name": "python3"
  },
  "language_info": {
   "codemirror_mode": {
    "name": "ipython",
    "version": 3
   },
   "file_extension": ".py",
   "mimetype": "text/x-python",
   "name": "python",
   "nbconvert_exporter": "python",
   "pygments_lexer": "ipython3",
   "version": "3.10.12"
  },
  "papermill": {
   "default_parameters": {},
   "duration": 10106.778233,
   "end_time": "2024-01-20T14:48:31.006315",
   "environment_variables": {},
   "exception": null,
   "input_path": "__notebook__.ipynb",
   "output_path": "__notebook__.ipynb",
   "parameters": {},
   "start_time": "2024-01-20T12:00:04.228082",
   "version": "2.4.0"
  }
 },
 "nbformat": 4,
 "nbformat_minor": 5
}
